{
 "cells": [
  {
   "cell_type": "code",
   "execution_count": 1,
   "metadata": {},
   "outputs": [],
   "source": [
    "import folium\n",
    "import pandas as pd\n",
    "\n",
    "# Ler a planilha do Excel com as informações das lojas\n",
    "df = pd.read_excel('lista_lojas.xlsx')\n",
    "\n",
    "# Criar um mapa Folium centrado em uma localização inicial\n",
    "mapa = folium.Map(location=[-14.235, -51.9253], zoom_start=4)\n",
    "\n",
    "# Iterar sobre as linhas da planilha e adicionar marcadores para cada loja\n",
    "for index, row in df.iterrows():\n",
    "    # Extrair as informações da linha\n",
    "    loja = row['loja']\n",
    "    lat = row['lat']\n",
    "    long = row['long']\n",
    "    \n",
    "    # Adicionar marcador para a loja no mapa\n",
    "    folium.Marker(location=[lat, long], popup=loja).add_to(mapa)\n",
    "\n",
    "# Exibir o mapa\n",
    "mapa.save(\"mapa_lojas.html\")\n"
   ]
  }
 ],
 "metadata": {
  "kernelspec": {
   "display_name": "Python 3",
   "language": "python",
   "name": "python3"
  },
  "language_info": {
   "codemirror_mode": {
    "name": "ipython",
    "version": 3
   },
   "file_extension": ".py",
   "mimetype": "text/x-python",
   "name": "python",
   "nbconvert_exporter": "python",
   "pygments_lexer": "ipython3",
   "version": "3.8.2"
  }
 },
 "nbformat": 4,
 "nbformat_minor": 2
}
